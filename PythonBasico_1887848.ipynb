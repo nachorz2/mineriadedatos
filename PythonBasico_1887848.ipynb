{
 "cells": [
  {
   "cell_type": "markdown",
   "metadata": {},
   "source": [
    "# Ejercicios prácticos de Python\n",
    "### Minería de Datos\n",
    "#### José Ignacio Contreras Ruiz\n",
    "##### 1887848"
   ]
  },
  {
   "cell_type": "markdown",
   "metadata": {},
   "source": [
    "##### Ejercicio 1:\n",
    "Realiza una variable con tu matricula y realiza una secuencia de imprimir con tu nombre y tu matricula concatenados."
   ]
  },
  {
   "cell_type": "code",
   "execution_count": 3,
   "metadata": {},
   "outputs": [
    {
     "name": "stdout",
     "output_type": "stream",
     "text": [
      "José Ignacio Contreras Ruiz 1887848\n"
     ]
    }
   ],
   "source": [
    "a = 1887848\n",
    "b = \"José Ignacio Contreras Ruiz\"\n",
    "print(b, a)"
   ]
  },
  {
   "cell_type": "markdown",
   "metadata": {},
   "source": [
    "##### Ejercicio 2"
   ]
  },
  {
   "cell_type": "code",
   "execution_count": 6,
   "metadata": {},
   "outputs": [
    {
     "name": "stdin",
     "output_type": "stream",
     "text": [
      "Introduce un número: 3\n",
      "Introduce otro número:  2\n"
     ]
    },
    {
     "name": "stdout",
     "output_type": "stream",
     "text": [
      "La suma es: 5\n",
      "El producto es: 6\n",
      "La división es: 1.5\n",
      "La diferencia es:  1\n",
      "El primer número elevado al segundo es: 1\n"
     ]
    }
   ],
   "source": [
    "a1 = int(input(\"Introduce un número:\" ))\n",
    "b1 = int(input(\"Introduce otro número: \"))\n",
    "suma = a1 + b1\n",
    "mult = a1 * b1\n",
    "div = a1/b1\n",
    "rest = a1-b1\n",
    "exp = a1^b1\n",
    "print(\"La suma es:\", suma)\n",
    "print(\"El producto es:\", mult)\n",
    "print(\"La división es:\", div)\n",
    "print(\"La diferencia es: \", rest)\n",
    "print(\"El primer número elevado al segundo es:\", exp)"
   ]
  },
  {
   "cell_type": "markdown",
   "metadata": {},
   "source": [
    "##### Ejercicio 3"
   ]
  },
  {
   "cell_type": "code",
   "execution_count": 195,
   "metadata": {},
   "outputs": [
    {
     "name": "stdout",
     "output_type": "stream",
     "text": [
      "3\n",
      "6\n",
      "9\n",
      "12\n",
      "15\n",
      "18\n",
      "21\n",
      "24\n",
      "27\n",
      "30\n",
      "La suma es: 165\n"
     ]
    }
   ],
   "source": [
    "import numpy as np\n",
    "listado = list()\n",
    "suma = 0\n",
    "for i in range(1,11):\n",
    "    mult = i * 3\n",
    "    listado.append(mult)\n",
    "    print(mult)\n",
    "    suma = suma + mult  \n",
    "print (\"La suma es:\", suma)\n"
   ]
  },
  {
   "cell_type": "markdown",
   "metadata": {},
   "source": [
    "##### Ejercicio 4"
   ]
  },
  {
   "cell_type": "code",
   "execution_count": 221,
   "metadata": {},
   "outputs": [
    {
     "name": "stdin",
     "output_type": "stream",
     "text": [
      "Introduce un número: 85\n"
     ]
    },
    {
     "name": "stdout",
     "output_type": "stream",
     "text": [
      "El número es impar\n"
     ]
    },
    {
     "name": "stdin",
     "output_type": "stream",
     "text": [
      "Introduce otro número: 11\n"
     ]
    },
    {
     "name": "stdout",
     "output_type": "stream",
     "text": [
      "El número es primo\n"
     ]
    }
   ],
   "source": [
    "c = 1\n",
    "a = int(input(\"Introduce un número:\" ))\n",
    "if a %2 == 0:\n",
    "            print(\"El número es par\")\n",
    "else:\n",
    "            print(\"El número es impar\")\n",
    "b = int(input(\"Introduce otro número:\" ))\n",
    "if b < 1:\n",
    "    print(\"Error\")\n",
    "elif b == 2:\n",
    "        print(\"El número es primo\")\n",
    "else:\n",
    "    for i in range(2, b):\n",
    "        if b % i == 0:\n",
    "            c = 0\n",
    "if c == 0:\n",
    "    print(\"El número no es primo\")\n",
    "else:\n",
    "    print(\"El número es primo\")"
   ]
  },
  {
   "cell_type": "markdown",
   "metadata": {},
   "source": [
    "##### Ejercicio 5"
   ]
  },
  {
   "cell_type": "code",
   "execution_count": 250,
   "metadata": {},
   "outputs": [
    {
     "name": "stdout",
     "output_type": "stream",
     "text": [
      "¿Tu dos números son 1.Entero 2.Decimal 3. Complejo 4.Texto?\n"
     ]
    },
    {
     "name": "stdin",
     "output_type": "stream",
     "text": [
      "Introduce un número: 2\n",
      "Introduce primer número: 3.5\n",
      "Introduce segundo número:  4.1\n"
     ]
    },
    {
     "name": "stdout",
     "output_type": "stream",
     "text": [
      "La suma es: 7.6\n",
      "El producto es: 14.349999999999998\n",
      "La división es: 0.853658536585366\n",
      "La diferencia es:  -0.5999999999999996\n",
      "El primer número elevado al segundo es: 1\n"
     ]
    }
   ],
   "source": [
    "print(\"¿Tu dos números son 1.Entero 2.Decimal 3. Complejo 4.Texto?\")\n",
    "a = int(input(\"Introduce un número:\" ))\n",
    "if a == 1:\n",
    "    a1 = int(input(\"Introduce primer número:\" ))\n",
    "    b1 = int(input(\"Introduce segundo número: \"))\n",
    "    suma = a1 + b1\n",
    "    mult = a1 * b1\n",
    "    div = a1/b1\n",
    "    rest = a1-b1\n",
    "    exp = a1^b1\n",
    "    print(\"La suma es:\", suma)\n",
    "    print(\"El producto es:\", mult)\n",
    "    print(\"La división es:\", div)\n",
    "    print(\"La diferencia es: \", rest)\n",
    "    print(\"El primer número elevado al segundo es:\", exp)\n",
    "else:\n",
    "    if a == 2:\n",
    "        a1 = float(input(\"Introduce primer número:\" ))\n",
    "        b1 = float(input(\"Introduce segundo número: \"))\n",
    "        suma = a1 + b1\n",
    "        mult = a1 * b1\n",
    "        div = a1/b1\n",
    "        rest = a1-b1\n",
    "        print(\"La suma es:\", suma)\n",
    "        print(\"El producto es:\", mult)\n",
    "        print(\"La división es:\", div)\n",
    "        print(\"La diferencia es: \", rest)\n",
    "        print(\"El primer número elevado al segundo es:\", exp)\n",
    "    else: \n",
    "        print(\"Lo siento por el momento la calculadora no funciona con esos datos\")"
   ]
  },
  {
   "cell_type": "markdown",
   "metadata": {},
   "source": [
    "### Tuplas"
   ]
  },
  {
   "cell_type": "code",
   "execution_count": 248,
   "metadata": {},
   "outputs": [
    {
     "name": "stdout",
     "output_type": "stream",
     "text": [
      "La variabla a: 2  es <class 'int'>\n",
      "La variabla b: 2.1  es <class 'float'>\n",
      "La variabla c: True  es <class 'bool'>\n",
      "La variabla d: (4+2j)  es <class 'complex'>\n"
     ]
    }
   ],
   "source": [
    "\n",
    "a = int(2)\n",
    "b = float(2.1)\n",
    "c = bool(45)\n",
    "d = 4 + 2j\n",
    "print(\"La variabla a:\",a, \" es\", type(a))\n",
    "print(\"La variabla b:\",b, \" es\", type(b))\n",
    "print(\"La variabla c:\", c, \" es\", type(c))\n",
    "print(\"La variabla d:\",d, \" es\", type(d))\n",
    "\n"
   ]
  },
  {
   "cell_type": "code",
   "execution_count": 22,
   "metadata": {},
   "outputs": [
    {
     "data": {
      "text/plain": [
       "(1, 3)"
      ]
     },
     "execution_count": 22,
     "metadata": {},
     "output_type": "execute_result"
    }
   ],
   "source": [
    "tupla = (1,2,3)\n",
    "tupla[0], tupla[2]"
   ]
  },
  {
   "cell_type": "code",
   "execution_count": 25,
   "metadata": {},
   "outputs": [
    {
     "data": {
      "text/plain": [
       "((1, 2, 3), 'Hola', 'tupla', 'Part2')"
      ]
     },
     "execution_count": 25,
     "metadata": {},
     "output_type": "execute_result"
    }
   ],
   "source": [
    "tupla = tupla, \"Hola\", \"tupla\",\"Part2\"\n",
    "tupla\n"
   ]
  },
  {
   "cell_type": "code",
   "execution_count": 29,
   "metadata": {},
   "outputs": [
    {
     "name": "stdout",
     "output_type": "stream",
     "text": [
      "1\n"
     ]
    },
    {
     "ename": "ValueError",
     "evalue": "tuple.index(x): x not in tuple",
     "output_type": "error",
     "traceback": [
      "\u001b[1;31m---------------------------------------------------------------------------\u001b[0m",
      "\u001b[1;31mValueError\u001b[0m                                Traceback (most recent call last)",
      "\u001b[1;32m<ipython-input-29-0e8eb9cbae13>\u001b[0m in \u001b[0;36m<module>\u001b[1;34m\u001b[0m\n\u001b[0;32m      1\u001b[0m \u001b[0mprint\u001b[0m\u001b[1;33m(\u001b[0m\u001b[0mtupla\u001b[0m\u001b[1;33m.\u001b[0m\u001b[0mindex\u001b[0m\u001b[1;33m(\u001b[0m\u001b[1;34m\"Hola\"\u001b[0m\u001b[1;33m)\u001b[0m\u001b[1;33m)\u001b[0m\u001b[1;33m\u001b[0m\u001b[1;33m\u001b[0m\u001b[0m\n\u001b[1;32m----> 2\u001b[1;33m \u001b[0mprint\u001b[0m\u001b[1;33m(\u001b[0m\u001b[0mtupla\u001b[0m\u001b[1;33m.\u001b[0m\u001b[0mindex\u001b[0m\u001b[1;33m(\u001b[0m\u001b[1;36m4\u001b[0m\u001b[1;33m)\u001b[0m\u001b[1;33m)\u001b[0m\u001b[1;33m\u001b[0m\u001b[1;33m\u001b[0m\u001b[0m\n\u001b[0m",
      "\u001b[1;31mValueError\u001b[0m: tuple.index(x): x not in tuple"
     ]
    }
   ],
   "source": [
    "print(tupla.index(\"Hola\"))\n",
    "print(tupla.index(4))"
   ]
  },
  {
   "cell_type": "markdown",
   "metadata": {},
   "source": [
    "### Listas"
   ]
  },
  {
   "cell_type": "code",
   "execution_count": 1,
   "metadata": {},
   "outputs": [
    {
     "data": {
      "text/plain": [
       "[59,\n",
       " 33,\n",
       " 84,\n",
       " 42,\n",
       " 43,\n",
       " 8,\n",
       " 51,\n",
       " 95,\n",
       " 12,\n",
       " 13,\n",
       " 85,\n",
       " 17,\n",
       " 97,\n",
       " 27,\n",
       " 79,\n",
       " 6,\n",
       " 58,\n",
       " 3,\n",
       " 86,\n",
       " 21,\n",
       " 49,\n",
       " 41,\n",
       " 54,\n",
       " 30,\n",
       " 69,\n",
       " 94,\n",
       " 48,\n",
       " 19,\n",
       " 7,\n",
       " 78,\n",
       " 93,\n",
       " 25,\n",
       " 81,\n",
       " 99,\n",
       " 4,\n",
       " 87,\n",
       " 22,\n",
       " 82,\n",
       " 60,\n",
       " 39]"
      ]
     },
     "execution_count": 1,
     "metadata": {},
     "output_type": "execute_result"
    }
   ],
   "source": [
    "import random as r\n",
    "lista = range(0,100)\n",
    "lista = r.sample(lista, k = 40)\n",
    "lista\n"
   ]
  },
  {
   "cell_type": "code",
   "execution_count": 2,
   "metadata": {},
   "outputs": [],
   "source": [
    "pares = []\n",
    "impares = []\n",
    "for i in range(len(lista)):\n",
    "        lista[i]\n",
    "        if lista[i] %2 == 0:\n",
    "            pares.append(lista[i])\n",
    "        else:\n",
    "            impares.append(lista[i])"
   ]
  },
  {
   "cell_type": "code",
   "execution_count": 3,
   "metadata": {},
   "outputs": [
    {
     "data": {
      "text/plain": [
       "[84, 42, 8, 12, 6, 58, 86, 54, 30, 94, 48, 78, 4, 22, 82, 60]"
      ]
     },
     "execution_count": 3,
     "metadata": {},
     "output_type": "execute_result"
    }
   ],
   "source": [
    "pares"
   ]
  },
  {
   "cell_type": "code",
   "execution_count": 4,
   "metadata": {},
   "outputs": [
    {
     "data": {
      "text/plain": [
       "[59,\n",
       " 33,\n",
       " 43,\n",
       " 51,\n",
       " 95,\n",
       " 13,\n",
       " 85,\n",
       " 17,\n",
       " 97,\n",
       " 27,\n",
       " 79,\n",
       " 3,\n",
       " 21,\n",
       " 49,\n",
       " 41,\n",
       " 69,\n",
       " 19,\n",
       " 7,\n",
       " 93,\n",
       " 25,\n",
       " 81,\n",
       " 99,\n",
       " 87,\n",
       " 39]"
      ]
     },
     "execution_count": 4,
     "metadata": {},
     "output_type": "execute_result"
    }
   ],
   "source": [
    "impares"
   ]
  },
  {
   "cell_type": "code",
   "execution_count": 5,
   "metadata": {},
   "outputs": [
    {
     "name": "stdout",
     "output_type": "stream",
     "text": [
      "El total de números pares son: 16\n",
      "El total de números impares son: 24\n"
     ]
    }
   ],
   "source": [
    "lonp = len(pares)\n",
    "lonim = len(impares)\n",
    "print(\"El total de números pares son:\",lonp)\n",
    "print(\"El total de números impares son:\", lonim)"
   ]
  },
  {
   "cell_type": "code",
   "execution_count": 6,
   "metadata": {},
   "outputs": [
    {
     "data": {
      "text/plain": [
       "[3,\n",
       " 7,\n",
       " 13,\n",
       " 17,\n",
       " 19,\n",
       " 21,\n",
       " 25,\n",
       " 27,\n",
       " 33,\n",
       " 39,\n",
       " 41,\n",
       " 43,\n",
       " 49,\n",
       " 51,\n",
       " 59,\n",
       " 69,\n",
       " 79,\n",
       " 81,\n",
       " 85,\n",
       " 87,\n",
       " 93,\n",
       " 95,\n",
       " 97,\n",
       " 99]"
      ]
     },
     "execution_count": 6,
     "metadata": {},
     "output_type": "execute_result"
    }
   ],
   "source": [
    "imparesord = sorted(impares)\n",
    "imparesord"
   ]
  },
  {
   "cell_type": "code",
   "execution_count": 7,
   "metadata": {},
   "outputs": [
    {
     "data": {
      "text/plain": [
       "[94, 86, 84, 82, 78, 60, 58, 54, 48, 42, 30, 22, 12, 8, 6, 4]"
      ]
     },
     "execution_count": 7,
     "metadata": {},
     "output_type": "execute_result"
    }
   ],
   "source": [
    "paresord = sorted(pares, reverse = True)\n",
    "paresord"
   ]
  },
  {
   "cell_type": "code",
   "execution_count": 8,
   "metadata": {},
   "outputs": [
    {
     "data": {
      "text/plain": [
       "1"
      ]
     },
     "execution_count": 8,
     "metadata": {},
     "output_type": "execute_result"
    }
   ],
   "source": [
    "lista.append(5)\n",
    "lista.extend([105])\n",
    "lista.count(105)"
   ]
  },
  {
   "cell_type": "code",
   "execution_count": 9,
   "metadata": {},
   "outputs": [
    {
     "data": {
      "text/plain": [
       "41"
      ]
     },
     "execution_count": 9,
     "metadata": {},
     "output_type": "execute_result"
    }
   ],
   "source": [
    "lista.index(105)"
   ]
  },
  {
   "cell_type": "code",
   "execution_count": 10,
   "metadata": {},
   "outputs": [
    {
     "data": {
      "text/plain": [
       "[59,\n",
       " 33,\n",
       " 84,\n",
       " 42,\n",
       " 43,\n",
       " 8,\n",
       " 51,\n",
       " 95,\n",
       " 12,\n",
       " 13,\n",
       " 85,\n",
       " 17,\n",
       " 97,\n",
       " 27,\n",
       " 79,\n",
       " 6,\n",
       " 58,\n",
       " 3,\n",
       " 86,\n",
       " 21,\n",
       " 49,\n",
       " 41,\n",
       " 54,\n",
       " 30,\n",
       " 69,\n",
       " 94,\n",
       " 48,\n",
       " 19,\n",
       " 7,\n",
       " 78,\n",
       " 93,\n",
       " 25,\n",
       " 81,\n",
       " 99,\n",
       " 4,\n",
       " 87,\n",
       " 22,\n",
       " 82,\n",
       " 60,\n",
       " 39,\n",
       " 5,\n",
       " 105]"
      ]
     },
     "execution_count": 10,
     "metadata": {},
     "output_type": "execute_result"
    }
   ],
   "source": [
    "lista"
   ]
  },
  {
   "cell_type": "markdown",
   "metadata": {},
   "source": [
    "### Diccionarios"
   ]
  },
  {
   "cell_type": "code",
   "execution_count": 158,
   "metadata": {},
   "outputs": [
    {
     "data": {
      "text/plain": [
       "{'Nombres': ['Paola', 'Mariana', 'Tania', 'Victor', 'Rafael', 'Kevin'],\n",
       " 'Edades': [21, 20, 20, 21, 22, 21]}"
      ]
     },
     "execution_count": 158,
     "metadata": {},
     "output_type": "execute_result"
    }
   ],
   "source": [
    "diccionario = {'Nombres' : ['Paola','Mariana','Tania','Victor','Rafael', 'Kevin'],'Edades' : [21, 20, 20, 21, 22, 21]}\n",
    "diccionario"
   ]
  },
  {
   "cell_type": "code",
   "execution_count": 159,
   "metadata": {},
   "outputs": [
    {
     "name": "stdout",
     "output_type": "stream",
     "text": [
      "21\n"
     ]
    }
   ],
   "source": [
    "print(diccionario['Edades'][0])"
   ]
  },
  {
   "cell_type": "code",
   "execution_count": 160,
   "metadata": {},
   "outputs": [],
   "source": [
    "lsted = diccionario.get('Edades')"
   ]
  },
  {
   "cell_type": "code",
   "execution_count": 161,
   "metadata": {},
   "outputs": [
    {
     "name": "stdout",
     "output_type": "stream",
     "text": [
      "Las edades de menor  a mayor son [20, 20, 21, 21, 21, 22]\n"
     ]
    }
   ],
   "source": [
    "lsted.sort()\n",
    "print (\"Las edades de menor  a mayor son\",lsted)"
   ]
  },
  {
   "cell_type": "code",
   "execution_count": 162,
   "metadata": {},
   "outputs": [
    {
     "name": "stdout",
     "output_type": "stream",
     "text": [
      "Paola\n",
      "Mariana\n",
      "Tania\n",
      "Victor\n",
      "Rafael\n",
      "Kevin\n"
     ]
    }
   ],
   "source": [
    "for i in range(len(lsted)):\n",
    "    print (diccionario['Nombres'][i])\n",
    "    \n",
    "    "
   ]
  },
  {
   "cell_type": "code",
   "execution_count": 163,
   "metadata": {},
   "outputs": [],
   "source": [
    "#Como dentro de nuestro diccionario hay listas, hay que actualizarlo de manera completa\n",
    "dicup = {'Nombres' : ['Paola','Mariana','Tania','Victor','Rafael', 'Kevin','Ignacio','Andrea'], 'Edades':[21, 20, 20, 21, 22, 21,21,25]}\n",
    "diccionario.update(dicup)"
   ]
  },
  {
   "cell_type": "code",
   "execution_count": 164,
   "metadata": {},
   "outputs": [
    {
     "data": {
      "text/plain": [
       "{'Nombres': ['Paola',\n",
       "  'Mariana',\n",
       "  'Tania',\n",
       "  'Victor',\n",
       "  'Rafael',\n",
       "  'Kevin',\n",
       "  'Ignacio',\n",
       "  'Andrea'],\n",
       " 'Edades': [21, 20, 20, 21, 22, 21, 21, 25]}"
      ]
     },
     "execution_count": 164,
     "metadata": {},
     "output_type": "execute_result"
    }
   ],
   "source": [
    "diccionario"
   ]
  },
  {
   "cell_type": "markdown",
   "metadata": {},
   "source": [
    "### Sets"
   ]
  },
  {
   "cell_type": "code",
   "execution_count": 239,
   "metadata": {},
   "outputs": [],
   "source": [
    "# Como vimos en clase, los sets no permiten el mismo elemento dos veces, por lo que al hacer de manera aleatoria\n",
    "# Cien números entre 1 y 25, terminas con un set que contenga solo esos números, en un máximo de 25 de longitud\n",
    "settest = set()\n",
    "for i in range(0,99):\n",
    "    settest.add(r.randint(1,25))"
   ]
  },
  {
   "cell_type": "code",
   "execution_count": 240,
   "metadata": {},
   "outputs": [
    {
     "data": {
      "text/plain": [
       "set"
      ]
     },
     "execution_count": 240,
     "metadata": {},
     "output_type": "execute_result"
    }
   ],
   "source": [
    "type(settest)"
   ]
  },
  {
   "cell_type": "code",
   "execution_count": 241,
   "metadata": {},
   "outputs": [
    {
     "data": {
      "text/plain": [
       "{1,\n",
       " 2,\n",
       " 3,\n",
       " 4,\n",
       " 5,\n",
       " 6,\n",
       " 7,\n",
       " 8,\n",
       " 9,\n",
       " 10,\n",
       " 11,\n",
       " 12,\n",
       " 13,\n",
       " 14,\n",
       " 15,\n",
       " 16,\n",
       " 17,\n",
       " 18,\n",
       " 19,\n",
       " 20,\n",
       " 21,\n",
       " 22,\n",
       " 23,\n",
       " 24,\n",
       " 25}"
      ]
     },
     "execution_count": 241,
     "metadata": {},
     "output_type": "execute_result"
    }
   ],
   "source": [
    "settest"
   ]
  },
  {
   "cell_type": "code",
   "execution_count": 242,
   "metadata": {},
   "outputs": [
    {
     "name": "stdout",
     "output_type": "stream",
     "text": [
      "El set es de longitud: 25\n"
     ]
    }
   ],
   "source": [
    "print(\"El set es de longitud:\",len(settest))"
   ]
  },
  {
   "cell_type": "code",
   "execution_count": 243,
   "metadata": {},
   "outputs": [
    {
     "name": "stdout",
     "output_type": "stream",
     "text": [
      "¿El número aleatorio 21 se encuentra en el set?\n",
      "True\n",
      "¿El número aleatorio 18 se encuentra en el set?\n",
      "True\n",
      "¿El número aleatorio 86 se encuentra en el set?\n",
      "False\n",
      "¿El número aleatorio 21 se encuentra en el set?\n",
      "True\n",
      "¿El número aleatorio 22 se encuentra en el set?\n",
      "True\n",
      "¿El número aleatorio 11 se encuentra en el set?\n",
      "True\n",
      "¿El número aleatorio 74 se encuentra en el set?\n",
      "False\n",
      "¿El número aleatorio 94 se encuentra en el set?\n",
      "False\n",
      "¿El número aleatorio 23 se encuentra en el set?\n",
      "True\n"
     ]
    }
   ],
   "source": [
    "for i in range(0,9):\n",
    "    a = r.randint(0,100)\n",
    "    print(\"¿El número aleatorio\", a, \"se encuentra en el set?\")\n",
    "    print(a in settest)\n",
    "        \n",
    "    "
   ]
  }
 ],
 "metadata": {
  "kernelspec": {
   "display_name": "Python 3",
   "language": "python",
   "name": "python3"
  },
  "language_info": {
   "codemirror_mode": {
    "name": "ipython",
    "version": 3
   },
   "file_extension": ".py",
   "mimetype": "text/x-python",
   "name": "python",
   "nbconvert_exporter": "python",
   "pygments_lexer": "ipython3",
   "version": "3.7.6"
  }
 },
 "nbformat": 4,
 "nbformat_minor": 4
}
